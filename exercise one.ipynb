{
 "cells": [
  {
   "cell_type": "markdown",
   "id": "484e4342",
   "metadata": {},
   "source": [
    "Assignment 1 of 4\n",
    "\n",
    "RUBRICS\n",
    "\n",
    "Correct value.\n",
    "\n",
    "Number of statistics computed.\n",
    "\n",
    "Any added comment on the computed value."
   ]
  },
  {
   "cell_type": "markdown",
   "id": "c82e5837",
   "metadata": {},
   "source": [
    "Exercise 1a: Download the dataset\n",
    "https://github.com/johnhabere/datasets/blob/main/exchange-rates_uga.csv\n",
    "\n",
    "From the dataset accomplish the various statistics of the exchange rates using the rates (referred to as 'values' in the dataset) in the following exercises."
   ]
  },
  {
   "cell_type": "code",
   "execution_count": 1,
   "id": "fed44221",
   "metadata": {},
   "outputs": [],
   "source": [
    "#importing the necessary libraries\n",
    "import pandas as pd\n",
    "#Supressing the warning messages\n",
    "import warnings\n",
    "warnings.filterwarnings('ignore')"
   ]
  },
  {
   "cell_type": "code",
   "execution_count": 2,
   "id": "fad5b966",
   "metadata": {},
   "outputs": [
    {
     "data": {
      "text/html": [
       "<div>\n",
       "<style scoped>\n",
       "    .dataframe tbody tr th:only-of-type {\n",
       "        vertical-align: middle;\n",
       "    }\n",
       "\n",
       "    .dataframe tbody tr th {\n",
       "        vertical-align: top;\n",
       "    }\n",
       "\n",
       "    .dataframe thead th {\n",
       "        text-align: right;\n",
       "    }\n",
       "</style>\n",
       "<table border=\"1\" class=\"dataframe\">\n",
       "  <thead>\n",
       "    <tr style=\"text-align: right;\">\n",
       "      <th></th>\n",
       "      <th>Iso3</th>\n",
       "      <th>StartDate</th>\n",
       "      <th>EndDate</th>\n",
       "      <th>Area Code</th>\n",
       "      <th>Area Code (M49)</th>\n",
       "      <th>Area</th>\n",
       "      <th>Element Code</th>\n",
       "      <th>Element</th>\n",
       "      <th>ISO Currency Code</th>\n",
       "      <th>Currency</th>\n",
       "      <th>Year Code</th>\n",
       "      <th>Year</th>\n",
       "      <th>Months Code</th>\n",
       "      <th>Months</th>\n",
       "      <th>Unit</th>\n",
       "      <th>Value</th>\n",
       "      <th>Flag</th>\n",
       "    </tr>\n",
       "  </thead>\n",
       "  <tbody>\n",
       "    <tr>\n",
       "      <th>0</th>\n",
       "      <td>#country+code</td>\n",
       "      <td>#date+start</td>\n",
       "      <td>#date+end</td>\n",
       "      <td>NaN</td>\n",
       "      <td>NaN</td>\n",
       "      <td>#country+name</td>\n",
       "      <td>NaN</td>\n",
       "      <td>NaN</td>\n",
       "      <td>NaN</td>\n",
       "      <td>NaN</td>\n",
       "      <td>NaN</td>\n",
       "      <td>#date+year</td>\n",
       "      <td>NaN</td>\n",
       "      <td>NaN</td>\n",
       "      <td>#indicator+type</td>\n",
       "      <td>#indicator+value+num</td>\n",
       "      <td>NaN</td>\n",
       "    </tr>\n",
       "    <tr>\n",
       "      <th>1</th>\n",
       "      <td>UGA</td>\n",
       "      <td>1987-01-01</td>\n",
       "      <td>1987-12-31</td>\n",
       "      <td>226.0</td>\n",
       "      <td>'800</td>\n",
       "      <td>Uganda</td>\n",
       "      <td>LCU</td>\n",
       "      <td>Local currency units per USD</td>\n",
       "      <td>UGX</td>\n",
       "      <td>Uganda Shilling</td>\n",
       "      <td>1987.0</td>\n",
       "      <td>1987</td>\n",
       "      <td>7021.0</td>\n",
       "      <td>Annual value</td>\n",
       "      <td>NaN</td>\n",
       "      <td>42.841266666700001</td>\n",
       "      <td>X</td>\n",
       "    </tr>\n",
       "    <tr>\n",
       "      <th>2</th>\n",
       "      <td>UGA</td>\n",
       "      <td>1987-01-01</td>\n",
       "      <td>1987-01-31</td>\n",
       "      <td>226.0</td>\n",
       "      <td>'800</td>\n",
       "      <td>Uganda</td>\n",
       "      <td>LCU</td>\n",
       "      <td>Local currency units per USD</td>\n",
       "      <td>UGX</td>\n",
       "      <td>Uganda Shilling</td>\n",
       "      <td>1987.0</td>\n",
       "      <td>1987</td>\n",
       "      <td>7001.0</td>\n",
       "      <td>January</td>\n",
       "      <td>NaN</td>\n",
       "      <td>42.841266666700001</td>\n",
       "      <td>X</td>\n",
       "    </tr>\n",
       "    <tr>\n",
       "      <th>3</th>\n",
       "      <td>UGA</td>\n",
       "      <td>1987-02-01</td>\n",
       "      <td>1987-02-28</td>\n",
       "      <td>226.0</td>\n",
       "      <td>'800</td>\n",
       "      <td>Uganda</td>\n",
       "      <td>LCU</td>\n",
       "      <td>Local currency units per USD</td>\n",
       "      <td>UGX</td>\n",
       "      <td>Uganda Shilling</td>\n",
       "      <td>1987.0</td>\n",
       "      <td>1987</td>\n",
       "      <td>7002.0</td>\n",
       "      <td>February</td>\n",
       "      <td>NaN</td>\n",
       "      <td>14.000000000000000</td>\n",
       "      <td>X</td>\n",
       "    </tr>\n",
       "    <tr>\n",
       "      <th>4</th>\n",
       "      <td>UGA</td>\n",
       "      <td>1987-03-01</td>\n",
       "      <td>1987-03-31</td>\n",
       "      <td>226.0</td>\n",
       "      <td>'800</td>\n",
       "      <td>Uganda</td>\n",
       "      <td>LCU</td>\n",
       "      <td>Local currency units per USD</td>\n",
       "      <td>UGX</td>\n",
       "      <td>Uganda Shilling</td>\n",
       "      <td>1987.0</td>\n",
       "      <td>1987</td>\n",
       "      <td>7003.0</td>\n",
       "      <td>March</td>\n",
       "      <td>NaN</td>\n",
       "      <td>14.000000000000000</td>\n",
       "      <td>X</td>\n",
       "    </tr>\n",
       "  </tbody>\n",
       "</table>\n",
       "</div>"
      ],
      "text/plain": [
       "            Iso3    StartDate     EndDate  Area Code Area Code (M49)  \\\n",
       "0  #country+code  #date+start   #date+end        NaN             NaN   \n",
       "1            UGA   1987-01-01  1987-12-31      226.0            '800   \n",
       "2            UGA   1987-01-01  1987-01-31      226.0            '800   \n",
       "3            UGA   1987-02-01  1987-02-28      226.0            '800   \n",
       "4            UGA   1987-03-01  1987-03-31      226.0            '800   \n",
       "\n",
       "            Area Element Code                       Element ISO Currency Code  \\\n",
       "0  #country+name          NaN                           NaN               NaN   \n",
       "1         Uganda          LCU  Local currency units per USD               UGX   \n",
       "2         Uganda          LCU  Local currency units per USD               UGX   \n",
       "3         Uganda          LCU  Local currency units per USD               UGX   \n",
       "4         Uganda          LCU  Local currency units per USD               UGX   \n",
       "\n",
       "          Currency  Year Code        Year  Months Code        Months  \\\n",
       "0              NaN        NaN  #date+year          NaN           NaN   \n",
       "1  Uganda Shilling     1987.0        1987       7021.0  Annual value   \n",
       "2  Uganda Shilling     1987.0        1987       7001.0       January   \n",
       "3  Uganda Shilling     1987.0        1987       7002.0      February   \n",
       "4  Uganda Shilling     1987.0        1987       7003.0         March   \n",
       "\n",
       "              Unit                 Value Flag  \n",
       "0  #indicator+type  #indicator+value+num  NaN  \n",
       "1              NaN    42.841266666700001    X  \n",
       "2              NaN    42.841266666700001    X  \n",
       "3              NaN    14.000000000000000    X  \n",
       "4              NaN    14.000000000000000    X  "
      ]
     },
     "execution_count": 2,
     "metadata": {},
     "output_type": "execute_result"
    }
   ],
   "source": [
    "#Reading the dataset\n",
    "data = pd.read_csv(\"exchange-rates_uga.csv\")\n",
    "#A view of the data set to see if it's correctly loaded\n",
    "data.head()"
   ]
  },
  {
   "cell_type": "code",
   "execution_count": 3,
   "id": "90179a9c",
   "metadata": {},
   "outputs": [
    {
     "data": {
      "text/html": [
       "<div>\n",
       "<style scoped>\n",
       "    .dataframe tbody tr th:only-of-type {\n",
       "        vertical-align: middle;\n",
       "    }\n",
       "\n",
       "    .dataframe tbody tr th {\n",
       "        vertical-align: top;\n",
       "    }\n",
       "\n",
       "    .dataframe thead th {\n",
       "        text-align: right;\n",
       "    }\n",
       "</style>\n",
       "<table border=\"1\" class=\"dataframe\">\n",
       "  <thead>\n",
       "    <tr style=\"text-align: right;\">\n",
       "      <th></th>\n",
       "      <th>Iso3</th>\n",
       "      <th>StartDate</th>\n",
       "      <th>EndDate</th>\n",
       "      <th>Area Code</th>\n",
       "      <th>Area Code (M49)</th>\n",
       "      <th>Area</th>\n",
       "      <th>Element Code</th>\n",
       "      <th>Element</th>\n",
       "      <th>ISO Currency Code</th>\n",
       "      <th>Currency</th>\n",
       "      <th>Year Code</th>\n",
       "      <th>Year</th>\n",
       "      <th>Months Code</th>\n",
       "      <th>Months</th>\n",
       "      <th>Unit</th>\n",
       "      <th>Value</th>\n",
       "      <th>Flag</th>\n",
       "    </tr>\n",
       "  </thead>\n",
       "  <tbody>\n",
       "    <tr>\n",
       "      <th>1</th>\n",
       "      <td>UGA</td>\n",
       "      <td>1987-01-01</td>\n",
       "      <td>1987-12-31</td>\n",
       "      <td>226.0</td>\n",
       "      <td>'800</td>\n",
       "      <td>Uganda</td>\n",
       "      <td>LCU</td>\n",
       "      <td>Local currency units per USD</td>\n",
       "      <td>UGX</td>\n",
       "      <td>Uganda Shilling</td>\n",
       "      <td>1987.0</td>\n",
       "      <td>1987</td>\n",
       "      <td>7021.0</td>\n",
       "      <td>Annual value</td>\n",
       "      <td>NaN</td>\n",
       "      <td>42.841266666700001</td>\n",
       "      <td>X</td>\n",
       "    </tr>\n",
       "    <tr>\n",
       "      <th>2</th>\n",
       "      <td>UGA</td>\n",
       "      <td>1987-01-01</td>\n",
       "      <td>1987-01-31</td>\n",
       "      <td>226.0</td>\n",
       "      <td>'800</td>\n",
       "      <td>Uganda</td>\n",
       "      <td>LCU</td>\n",
       "      <td>Local currency units per USD</td>\n",
       "      <td>UGX</td>\n",
       "      <td>Uganda Shilling</td>\n",
       "      <td>1987.0</td>\n",
       "      <td>1987</td>\n",
       "      <td>7001.0</td>\n",
       "      <td>January</td>\n",
       "      <td>NaN</td>\n",
       "      <td>42.841266666700001</td>\n",
       "      <td>X</td>\n",
       "    </tr>\n",
       "    <tr>\n",
       "      <th>3</th>\n",
       "      <td>UGA</td>\n",
       "      <td>1987-02-01</td>\n",
       "      <td>1987-02-28</td>\n",
       "      <td>226.0</td>\n",
       "      <td>'800</td>\n",
       "      <td>Uganda</td>\n",
       "      <td>LCU</td>\n",
       "      <td>Local currency units per USD</td>\n",
       "      <td>UGX</td>\n",
       "      <td>Uganda Shilling</td>\n",
       "      <td>1987.0</td>\n",
       "      <td>1987</td>\n",
       "      <td>7002.0</td>\n",
       "      <td>February</td>\n",
       "      <td>NaN</td>\n",
       "      <td>14.000000000000000</td>\n",
       "      <td>X</td>\n",
       "    </tr>\n",
       "    <tr>\n",
       "      <th>4</th>\n",
       "      <td>UGA</td>\n",
       "      <td>1987-03-01</td>\n",
       "      <td>1987-03-31</td>\n",
       "      <td>226.0</td>\n",
       "      <td>'800</td>\n",
       "      <td>Uganda</td>\n",
       "      <td>LCU</td>\n",
       "      <td>Local currency units per USD</td>\n",
       "      <td>UGX</td>\n",
       "      <td>Uganda Shilling</td>\n",
       "      <td>1987.0</td>\n",
       "      <td>1987</td>\n",
       "      <td>7003.0</td>\n",
       "      <td>March</td>\n",
       "      <td>NaN</td>\n",
       "      <td>14.000000000000000</td>\n",
       "      <td>X</td>\n",
       "    </tr>\n",
       "    <tr>\n",
       "      <th>5</th>\n",
       "      <td>UGA</td>\n",
       "      <td>1987-04-01</td>\n",
       "      <td>1987-04-30</td>\n",
       "      <td>226.0</td>\n",
       "      <td>'800</td>\n",
       "      <td>Uganda</td>\n",
       "      <td>LCU</td>\n",
       "      <td>Local currency units per USD</td>\n",
       "      <td>UGX</td>\n",
       "      <td>Uganda Shilling</td>\n",
       "      <td>1987.0</td>\n",
       "      <td>1987</td>\n",
       "      <td>7004.0</td>\n",
       "      <td>April</td>\n",
       "      <td>NaN</td>\n",
       "      <td>14.000000000000000</td>\n",
       "      <td>X</td>\n",
       "    </tr>\n",
       "  </tbody>\n",
       "</table>\n",
       "</div>"
      ],
      "text/plain": [
       "  Iso3   StartDate     EndDate  Area Code Area Code (M49)    Area  \\\n",
       "1  UGA  1987-01-01  1987-12-31      226.0            '800  Uganda   \n",
       "2  UGA  1987-01-01  1987-01-31      226.0            '800  Uganda   \n",
       "3  UGA  1987-02-01  1987-02-28      226.0            '800  Uganda   \n",
       "4  UGA  1987-03-01  1987-03-31      226.0            '800  Uganda   \n",
       "5  UGA  1987-04-01  1987-04-30      226.0            '800  Uganda   \n",
       "\n",
       "  Element Code                       Element ISO Currency Code  \\\n",
       "1          LCU  Local currency units per USD               UGX   \n",
       "2          LCU  Local currency units per USD               UGX   \n",
       "3          LCU  Local currency units per USD               UGX   \n",
       "4          LCU  Local currency units per USD               UGX   \n",
       "5          LCU  Local currency units per USD               UGX   \n",
       "\n",
       "          Currency  Year Code  Year  Months Code        Months Unit  \\\n",
       "1  Uganda Shilling     1987.0  1987       7021.0  Annual value  NaN   \n",
       "2  Uganda Shilling     1987.0  1987       7001.0       January  NaN   \n",
       "3  Uganda Shilling     1987.0  1987       7002.0      February  NaN   \n",
       "4  Uganda Shilling     1987.0  1987       7003.0         March  NaN   \n",
       "5  Uganda Shilling     1987.0  1987       7004.0         April  NaN   \n",
       "\n",
       "                Value Flag  \n",
       "1  42.841266666700001    X  \n",
       "2  42.841266666700001    X  \n",
       "3  14.000000000000000    X  \n",
       "4  14.000000000000000    X  \n",
       "5  14.000000000000000    X  "
      ]
     },
     "execution_count": 3,
     "metadata": {},
     "output_type": "execute_result"
    }
   ],
   "source": [
    "# drop the 1st columns\n",
    "data = data.iloc[1:]\n",
    "\n",
    "#a view of the data set\n",
    "\n",
    "data.head()\n"
   ]
  },
  {
   "cell_type": "code",
   "execution_count": 4,
   "id": "3a7bcbdb",
   "metadata": {},
   "outputs": [
    {
     "data": {
      "text/plain": [
       "1    42.841266666700001\n",
       "2    42.841266666700001\n",
       "3    14.000000000000000\n",
       "4    14.000000000000000\n",
       "5    14.000000000000000\n",
       "Name: Value, dtype: object"
      ]
     },
     "execution_count": 4,
     "metadata": {},
     "output_type": "execute_result"
    }
   ],
   "source": [
    "#Create a list rates from the dataset\n",
    "\n",
    "rates = data['Value']\n",
    "\n",
    "rates.head()\n"
   ]
  },
  {
   "cell_type": "code",
   "execution_count": 7,
   "id": "52ed5f55",
   "metadata": {},
   "outputs": [],
   "source": [
    "#Convert value from object to float\n",
    "rates = rates.astype(float)\n"
   ]
  },
  {
   "cell_type": "code",
   "execution_count": 8,
   "id": "302538aa",
   "metadata": {},
   "outputs": [
    {
     "name": "stdout",
     "output_type": "stream",
     "text": [
      "count     747.000000\n",
      "mean     1383.336741\n",
      "std      1251.579869\n",
      "min         0.070214\n",
      "25%        93.839237\n",
      "50%      1196.340000\n",
      "75%      2098.566334\n",
      "max      3840.476750\n",
      "Name: Value, dtype: float64\n"
     ]
    }
   ],
   "source": [
    "# Summary statistics of the Value column\n",
    "summary_stats = rates.describe()\n",
    "\n",
    "# Display the summary statistics\n",
    "print(summary_stats)\n"
   ]
  },
  {
   "cell_type": "code",
   "execution_count": 10,
   "id": "358c0d13",
   "metadata": {},
   "outputs": [
    {
     "name": "stdout",
     "output_type": "stream",
     "text": [
      "Mean: 1383.3367407705653\n"
     ]
    }
   ],
   "source": [
    "# Mean\n",
    "\n",
    "mean_value = rates.mean()\n",
    "print(f\"Mean: {mean_value}\")\n"
   ]
  },
  {
   "cell_type": "code",
   "execution_count": 11,
   "id": "a0fd3bb4",
   "metadata": {},
   "outputs": [
    {
     "name": "stdout",
     "output_type": "stream",
     "text": [
      "Median: 1196.34\n"
     ]
    }
   ],
   "source": [
    "# Median\n",
    "\n",
    "median_value = rates.median()\n",
    "print(f\"Median: {median_value}\")\n"
   ]
  },
  {
   "cell_type": "code",
   "execution_count": 12,
   "id": "96cdcd63",
   "metadata": {},
   "outputs": [
    {
     "name": "stdout",
     "output_type": "stream",
     "text": [
      "Mode: 0        7.021450\n",
      "1        7.135950\n",
      "2        7.143000\n",
      "3        7.143000\n",
      "4        7.143000\n",
      "5        8.735330\n",
      "6        9.751609\n",
      "7       16.613378\n",
      "8       21.391457\n",
      "9       33.571033\n",
      "10      59.478779\n",
      "11      60.000000\n",
      "12      93.839237\n",
      "13     118.304588\n",
      "14     165.148394\n",
      "15     266.726793\n",
      "16     672.020000\n",
      "17    1400.000000\n",
      "Name: Value, dtype: float64\n"
     ]
    }
   ],
   "source": [
    "# Calculate the mode\n",
    "mode_value = rates.mode()\n",
    "\n",
    "# Display the mode\n",
    "print(\"Mode:\", mode_value)\n"
   ]
  },
  {
   "cell_type": "code",
   "execution_count": 14,
   "id": "3517bf98",
   "metadata": {},
   "outputs": [
    {
     "name": "stdout",
     "output_type": "stream",
     "text": [
      "Maximum Value: 3840.47675\n",
      "Minimum Value: 0.07021449999\n"
     ]
    }
   ],
   "source": [
    "# Maximum value of the 'Value' column\n",
    "max_value = rates.max()\n",
    "\n",
    "# Minimum value of the 'Value' column\n",
    "min_value = rates.min()\n",
    "\n",
    "print(f\"Maximum Value: {max_value}\")\n",
    "print(f\"Minimum Value: {min_value}\")\n"
   ]
  },
  {
   "cell_type": "code",
   "execution_count": 15,
   "id": "4109d408",
   "metadata": {},
   "outputs": [
    {
     "name": "stdout",
     "output_type": "stream",
     "text": [
      "Range: 3840.40653550001\n"
     ]
    }
   ],
   "source": [
    "# Calculate the range\n",
    "data_range = rates.max() - rates.min()\n",
    "print(\"Range:\", data_range)"
   ]
  },
  {
   "cell_type": "code",
   "execution_count": 18,
   "id": "83da1fbc",
   "metadata": {},
   "outputs": [
    {
     "name": "stdout",
     "output_type": "stream",
     "text": [
      "Variance: 1566452.1676363784\n"
     ]
    }
   ],
   "source": [
    "# Calculate the variance with Bessel's correction\n",
    "variance = rates.var(ddof=1)\n",
    "print(f\"Variance: {variance}\")\n"
   ]
  },
  {
   "cell_type": "code",
   "execution_count": 19,
   "id": "3fa2538c",
   "metadata": {},
   "outputs": [
    {
     "name": "stdout",
     "output_type": "stream",
     "text": [
      "Standard Deviation: 1251.5798686605576\n"
     ]
    }
   ],
   "source": [
    "# Calculate the standard deviation with Bessel's correction\n",
    "std_deviation = rates.std(ddof=1)\n",
    "\n",
    "print(f\"Standard Deviation: {std_dev}\")"
   ]
  },
  {
   "cell_type": "code",
   "execution_count": 22,
   "id": "0931266e",
   "metadata": {},
   "outputs": [
    {
     "name": "stdout",
     "output_type": "stream",
     "text": [
      "First Quartile (Q1): 93.83923713\n",
      "Second Quartile (Q2): 1196.34\n",
      "Third Quartile (Q3): 2098.56633399208\n",
      "Interquartile Range (IQR): 2004.7270968620803\n"
     ]
    }
   ],
   "source": [
    "# Calculate the first quartile (Q1)\n",
    "q1 = rates.quantile(0.25)\n",
    "\n",
    "#Calculate the second quartile\n",
    "q2 = rates.quantile(0.5)\n",
    "\n",
    "# Calculate the third quartile (Q3)\n",
    "q3 = rates.quantile(0.75)\n",
    "\n",
    "# Calculate the interquartile range (IQR)\n",
    "iqr = q3 - q1\n",
    "\n",
    "# Display the results\n",
    "print(\"First Quartile (Q1):\", q1)\n",
    "print(\"Second Quartile (Q2):\", q2)\n",
    "print(\"Third Quartile (Q3):\", q3)\n",
    "print(\"Interquartile Range (IQR):\", iqr)"
   ]
  },
  {
   "cell_type": "code",
   "execution_count": 23,
   "id": "cb10812b",
   "metadata": {},
   "outputs": [
    {
     "name": "stdout",
     "output_type": "stream",
     "text": [
      "Coefficient of Variation: 90.47543029641398\n"
     ]
    }
   ],
   "source": [
    "# Calculate the coefficient of variation\n",
    "coefficient_of_variation = (std_deviation / mean_value) * 100\n",
    "\n",
    "print(\"Coefficient of Variation:\", coefficient_of_variation)"
   ]
  },
  {
   "cell_type": "code",
   "execution_count": 24,
   "id": "680057b3",
   "metadata": {},
   "outputs": [
    {
     "name": "stdout",
     "output_type": "stream",
     "text": [
      "Quartile Coefficient of Dispersion (QCD): 0.9143960968116198\n"
     ]
    }
   ],
   "source": [
    "# Calculate the Quartile Coefficient of Dispersion (QCD)\n",
    "qcd = (q3 - q1) / (q3 + q1)\n",
    "print(\"Quartile Coefficient of Dispersion (QCD):\", qcd)"
   ]
  },
  {
   "cell_type": "code",
   "execution_count": null,
   "id": "388c836f",
   "metadata": {},
   "outputs": [],
   "source": [
    "#covariance"
   ]
  },
  {
   "cell_type": "code",
   "execution_count": null,
   "id": "d4d7ca4e",
   "metadata": {},
   "outputs": [],
   "source": [
    "#Pearson correlation coefficient ( 𝜌)"
   ]
  },
  {
   "cell_type": "code",
   "execution_count": null,
   "id": "a646f5f7",
   "metadata": {},
   "outputs": [],
   "source": [
    "#Percentiles (10th, 25th, 50th, 75th etc)\n"
   ]
  },
  {
   "cell_type": "code",
   "execution_count": null,
   "id": "06cdada4",
   "metadata": {},
   "outputs": [],
   "source": [
    "#Skewness"
   ]
  },
  {
   "cell_type": "code",
   "execution_count": null,
   "id": "79524e29",
   "metadata": {},
   "outputs": [],
   "source": [
    "#ADD ANY OTHER STATISTICS (THE MORE COMPUTATIONS, THE MORE POINTS"
   ]
  }
 ],
 "metadata": {
  "kernelspec": {
   "display_name": "Python 3 (ipykernel)",
   "language": "python",
   "name": "python3"
  },
  "language_info": {
   "codemirror_mode": {
    "name": "ipython",
    "version": 3
   },
   "file_extension": ".py",
   "mimetype": "text/x-python",
   "name": "python",
   "nbconvert_exporter": "python",
   "pygments_lexer": "ipython3",
   "version": "3.11.4"
  }
 },
 "nbformat": 4,
 "nbformat_minor": 5
}
