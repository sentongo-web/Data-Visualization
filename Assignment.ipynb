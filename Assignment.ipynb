{
 "cells": [
  {
   "cell_type": "code",
   "execution_count": 217,
   "metadata": {},
   "outputs": [],
   "source": [
    "#importing the necessary libraries\n",
    "import pandas as pd\n",
    "import numpy as np\n",
    "import matplotlib.pyplot as plt\n",
    "import seaborn as sns\n",
    "import statistics\n",
    "from scipy import stats\n",
    "from collections import Counter\n",
    "import warnings\n",
    "warnings.filterwarnings('ignore')"
   ]
  },
  {
   "cell_type": "code",
   "execution_count": 218,
   "metadata": {},
   "outputs": [
    {
     "name": "stdout",
     "output_type": "stream",
     "text": [
      "Top 5 rows of the dataset:\n",
      "| Iso3          | StartDate   | EndDate    |   Area Code | Area Code (M49)   | Area          | Element Code   | Element                      | ISO Currency Code   | Currency        |   Year Code | Year       |   Months Code | Months       | Unit            | Value                | Flag   |\n",
      "|:--------------|:------------|:-----------|------------:|:------------------|:--------------|:---------------|:-----------------------------|:--------------------|:----------------|------------:|:-----------|--------------:|:-------------|:----------------|:---------------------|:-------|\n",
      "| #country+code | #date+start | #date+end  |         nan | nan               | #country+name | nan            | nan                          | nan                 | nan             |         nan | #date+year |           nan | nan          | #indicator+type | #indicator+value+num | nan    |\n",
      "| UGA           | 1987-01-01  | 1987-12-31 |         226 | '800              | Uganda        | LCU            | Local currency units per USD | UGX                 | Uganda Shilling |        1987 | 1987       |          7021 | Annual value | nan             | 42.841266666700001   | X      |\n",
      "| UGA           | 1987-01-01  | 1987-01-31 |         226 | '800              | Uganda        | LCU            | Local currency units per USD | UGX                 | Uganda Shilling |        1987 | 1987       |          7001 | January      | nan             | 42.841266666700001   | X      |\n",
      "| UGA           | 1987-02-01  | 1987-02-28 |         226 | '800              | Uganda        | LCU            | Local currency units per USD | UGX                 | Uganda Shilling |        1987 | 1987       |          7002 | February     | nan             | 14.000000000000000   | X      |\n",
      "| UGA           | 1987-03-01  | 1987-03-31 |         226 | '800              | Uganda        | LCU            | Local currency units per USD | UGX                 | Uganda Shilling |        1987 | 1987       |          7003 | March        | nan             | 14.000000000000000   | X      |\n"
     ]
    }
   ],
   "source": [
    "# Reading the CSV file\n",
    "data = pd.read_csv(\"exchange-rates_uga.csv\")\n",
    "# Displaying the first 5 rows in a the dataset\n",
    "print(\"Top 5 rows of the dataset:\")\n",
    "print(data.head(5).to_markdown(index=False))"
   ]
  },
  {
   "cell_type": "code",
   "execution_count": 219,
   "metadata": {},
   "outputs": [
    {
     "name": "stdout",
     "output_type": "stream",
     "text": [
      "Modified DataFrame with 'Value' column changed to 'Rates':\n",
      "| Iso3          | StartDate   | EndDate    |   Area Code | Area Code (M49)   | Area          | Element Code   | Element                      | ISO Currency Code   | Currency        |   Year Code | Year       |   Months Code | Months       | Unit            | Rates                | Flag   |\n",
      "|:--------------|:------------|:-----------|------------:|:------------------|:--------------|:---------------|:-----------------------------|:--------------------|:----------------|------------:|:-----------|--------------:|:-------------|:----------------|:---------------------|:-------|\n",
      "| #country+code | #date+start | #date+end  |         nan | nan               | #country+name | nan            | nan                          | nan                 | nan             |         nan | #date+year |           nan | nan          | #indicator+type | #indicator+value+num | nan    |\n",
      "| UGA           | 1987-01-01  | 1987-12-31 |         226 | '800              | Uganda        | LCU            | Local currency units per USD | UGX                 | Uganda Shilling |        1987 | 1987       |          7021 | Annual value | nan             | 42.841266666700001   | X      |\n",
      "| UGA           | 1987-01-01  | 1987-01-31 |         226 | '800              | Uganda        | LCU            | Local currency units per USD | UGX                 | Uganda Shilling |        1987 | 1987       |          7001 | January      | nan             | 42.841266666700001   | X      |\n",
      "| UGA           | 1987-02-01  | 1987-02-28 |         226 | '800              | Uganda        | LCU            | Local currency units per USD | UGX                 | Uganda Shilling |        1987 | 1987       |          7002 | February     | nan             | 14.000000000000000   | X      |\n",
      "| UGA           | 1987-03-01  | 1987-03-31 |         226 | '800              | Uganda        | LCU            | Local currency units per USD | UGX                 | Uganda Shilling |        1987 | 1987       |          7003 | March        | nan             | 14.000000000000000   | X      |\n"
     ]
    }
   ],
   "source": [
    "# Changing the column name from 'value' to 'rates'\n",
    "data = data.rename(columns={'Value': 'Rates'})\n",
    "\n",
    "# Displaying the modified Data\n",
    "print(\"Modified DataFrame with 'Value' column changed to 'Rates':\")\n",
    "print(data.head(5).to_markdown(index=False))"
   ]
  },
  {
   "cell_type": "markdown",
   "metadata": {},
   "source": [
    "###### Checking for missing values"
   ]
  },
  {
   "cell_type": "code",
   "execution_count": 220,
   "metadata": {},
   "outputs": [
    {
     "name": "stdout",
     "output_type": "stream",
     "text": [
      "Number of missing values in the 'Rates' column: 0\n"
     ]
    }
   ],
   "source": [
    "# Checking for missing values in the 'rates' column\n",
    "missing_values = data['Rates'].isnull().sum()\n",
    "print(f\"Number of missing values in the 'Rates' column: {missing_values}\")"
   ]
  },
  {
   "cell_type": "code",
   "execution_count": 221,
   "metadata": {},
   "outputs": [
    {
     "name": "stdout",
     "output_type": "stream",
     "text": [
      "Data type of the 'Rates' column: object\n"
     ]
    }
   ],
   "source": [
    "# Checking the data type of the 'rates' column\n",
    "data_type = data['Rates'].dtype\n",
    "\n",
    "print(f\"Data type of the 'Rates' column: {data_type}\")"
   ]
  },
  {
   "cell_type": "code",
   "execution_count": 222,
   "metadata": {},
   "outputs": [],
   "source": [
    "# Removing the first row where 'rates' contains '#indicator+value+num'\n",
    "data = data[data['Rates'] != '#indicator+value+num']"
   ]
  },
  {
   "cell_type": "code",
   "execution_count": 223,
   "metadata": {},
   "outputs": [
    {
     "name": "stdout",
     "output_type": "stream",
     "text": [
      "Updated data type of the 'Rates' column: float64\n"
     ]
    }
   ],
   "source": [
    "# Converting the 'rates' column to float\n",
    "data['Rates'] = data['Rates'].astype(float)\n",
    "\n",
    "# Checking the updated data type of the 'rates' column\n",
    "updated_data_type = data['Rates'].dtype\n",
    "\n",
    "print(f\"Updated data type of the 'Rates' column: {updated_data_type}\")"
   ]
  },
  {
   "cell_type": "markdown",
   "metadata": {},
   "source": [
    "## DESCRIPTIVE STATISTICS OF THE COLUMN RATES"
   ]
  },
  {
   "cell_type": "code",
   "execution_count": 224,
   "metadata": {},
   "outputs": [
    {
     "name": "stdout",
     "output_type": "stream",
     "text": [
      "Statistics for the 'Rates' column:\n",
      "The count is: 747\n",
      "The mean is: 1383.3367407705653\n",
      "The mode is:\n",
      "0        7.021450\n",
      "1        7.135950\n",
      "2        7.143000\n",
      "3        7.143000\n",
      "4        7.143000\n",
      "5        8.735330\n",
      "6        9.751609\n",
      "7       16.613378\n",
      "8       21.391457\n",
      "9       33.571033\n",
      "10      59.478779\n",
      "11      60.000000\n",
      "12      93.839237\n",
      "13     118.304588\n",
      "14     165.148394\n",
      "15     266.726793\n",
      "16     672.020000\n",
      "17    1400.000000\n",
      "Name: Rates, dtype: float64\n",
      "The standard deviation is: 1251.5798686605576\n",
      "The variance is: 1566452.1676363784\n",
      "The maximum is: 3840.47675\n",
      "The minimum is: 0.07021449999\n",
      "The range is: 3840.40653550001\n"
     ]
    }
   ],
   "source": [
    "# Displaying various statistics for the 'Rates' column\n",
    "print(\"Statistics for the 'Rates' column:\")\n",
    "print(f\"The count is: {data['Rates'].count()}\")\n",
    "print(f\"The mean is: {data['Rates'].mean()}\")\n",
    "print(f\"The mode is:\\n{data['Rates'].mode()}\")\n",
    "print(f\"The standard deviation is: {data['Rates'].std()}\")\n",
    "print(f\"The variance is: {data['Rates'].var()}\")\n",
    "print(f\"The maximum is: {data['Rates'].max()}\")\n",
    "print(f\"The minimum is: {data['Rates'].min()}\")\n",
    "print(f\"The range is: {data['Rates'].max() - data['Rates'].min()}\")"
   ]
  },
  {
   "cell_type": "markdown",
   "metadata": {},
   "source": [
    "## DISTRIBUTION SUMMARY"
   ]
  },
  {
   "cell_type": "code",
   "execution_count": 225,
   "metadata": {},
   "outputs": [
    {
     "name": "stdout",
     "output_type": "stream",
     "text": [
      "Updated details of the 'Rates' column:\n",
      "count     747.000000\n",
      "mean     1383.336741\n",
      "std      1251.579869\n",
      "min         0.070214\n",
      "25%        93.839237\n",
      "50%      1196.340000\n",
      "75%      2098.566334\n",
      "max      3840.476750\n",
      "Name: Rates, dtype: float64\n"
     ]
    }
   ],
   "source": [
    "# Displaying the updated details of the 'rates' column\n",
    "print(\"Updated details of the 'Rates' column:\")\n",
    "print(data['Rates'].describe())"
   ]
  },
  {
   "cell_type": "markdown",
   "metadata": {},
   "source": [
    "## CHECKING FOR SKEWNESS"
   ]
  },
  {
   "cell_type": "code",
   "execution_count": 226,
   "metadata": {},
   "outputs": [
    {
     "name": "stdout",
     "output_type": "stream",
     "text": [
      "Skewness and Kurtosis for the Rates:\n",
      "Skewness: 0.5399736628690917\n",
      "Kurtosis: -0.9003036706542575\n"
     ]
    }
   ],
   "source": [
    "# Displaying skewness and kurtosis for the 'Rates' column\n",
    "print(\"Skewness and Kurtosis for the Rates:\")\n",
    "print(f\"Skewness: {data['Rates'].skew()}\")\n",
    "print(f\"Kurtosis: {data['Rates'].kurtosis()}\")"
   ]
  },
  {
   "cell_type": "markdown",
   "metadata": {},
   "source": [
    "#### A negative kurtosis value of -0.90, suggests a distribution with lighter tails and a flatter peak compared to a normal distribution. It indicates that the distribution has fewer extreme values (outliers) than a normal distribution.\n",
    "\n",
    "#### A skewness value of 0.54 indicates a moderate rightward (positive) skewness. In the context of the 'Rates' column, it suggests that the distribution has a longer right tail, and the majority of data points are concentrated on the left side with a few larger values on the right."
   ]
  },
  {
   "cell_type": "code",
   "execution_count": 227,
   "metadata": {},
   "outputs": [
    {
     "data": {
      "image/png": "[encoded data removed]",
      "text/plain": [
       "<Figure size 1000x600 with 1 Axes>"
      ]
     },
     "metadata": {},
     "output_type": "display_data"
    }
   ],
   "source": [
    "# Creating a density plot\n",
    "plt.figure(figsize=(10, 6))\n",
    "sns.kdeplot(data['Rates'], fill=True, color='skyblue', alpha=0.7)\n",
    "plt.title('Density Plot of Rates')\n",
    "plt.xlabel('Rates')\n",
    "plt.ylabel('Density')\n",
    "plt.show()"
   ]
  },
  {
   "cell_type": "markdown",
   "metadata": {},
   "source": [
    "## CHECKING FOR OUTLIERS IN THE RATES COLUMN"
   ]
  },
  {
   "cell_type": "code",
   "execution_count": 228,
   "metadata": {},
   "outputs": [
    {
     "name": "stdout",
     "output_type": "stream",
     "text": [
      "There are no outliers in the 'Rates' column.\n"
     ]
    }
   ],
   "source": [
    "# Calculating z-scores\n",
    "z_scores = (data['Rates'] - data['Rates'].mean()) / data['Rates'].std()\n",
    "\n",
    "# Identifing outliers using z-scores (threshold = 3)\n",
    "outliers_z = data[np.abs(z_scores) > 3]['Rates']\n",
    "\n",
    "# Calculating the IQR (Interquartile Range)\n",
    "Q1 = data['Rates'].quantile(0.25)\n",
    "Q3 = data['Rates'].quantile(0.75)\n",
    "IQR = Q3 - Q1\n",
    "\n",
    "# Identifing outliers using IQR method\n",
    "outliers_iqr = data[(data['Rates'] < Q1 - 1.5 * IQR) | (data['Rates'] > Q3 + 1.5 * IQR)]['Rates']\n",
    "\n",
    "# Print the result\n",
    "if len(outliers_z) > 0 or len(outliers_iqr) > 0:\n",
    "    print(f\"There are {len(outliers_z) + len(outliers_iqr)} outliers in the 'Rates' column.\")\n",
    "    print(f\"Outliers using z-scores:\\n{outliers_z}\")\n",
    "    print(f\"Outliers using IQR method:\\n{outliers_iqr}\")\n",
    "else:\n",
    "    print(\"There are no outliers in the 'Rates' column.\")"
   ]
  },
  {
   "cell_type": "code",
   "execution_count": 229,
   "metadata": {},
   "outputs": [
    {
     "data": {
      "text/html": [
       "<div>\n",
       "<style scoped>\n",
       "    .dataframe tbody tr th:only-of-type {\n",
       "        vertical-align: middle;\n",
       "    }\n",
       "\n",
       "    .dataframe tbody tr th {\n",
       "        vertical-align: top;\n",
       "    }\n",
       "\n",
       "    .dataframe thead th {\n",
       "        text-align: right;\n",
       "    }\n",
       "</style>\n",
       "<table border=\"1\" class=\"dataframe\">\n",
       "  <thead>\n",
       "    <tr style=\"text-align: right;\">\n",
       "      <th></th>\n",
       "      <th>Iso3</th>\n",
       "      <th>StartDate</th>\n",
       "      <th>EndDate</th>\n",
       "      <th>Area Code</th>\n",
       "      <th>Area Code (M49)</th>\n",
       "      <th>Area</th>\n",
       "      <th>Element Code</th>\n",
       "      <th>Element</th>\n",
       "      <th>ISO Currency Code</th>\n",
       "      <th>Currency</th>\n",
       "      <th>Year Code</th>\n",
       "      <th>Year</th>\n",
       "      <th>Months Code</th>\n",
       "      <th>Months</th>\n",
       "      <th>Unit</th>\n",
       "      <th>Rates</th>\n",
       "      <th>Flag</th>\n",
       "    </tr>\n",
       "  </thead>\n",
       "  <tbody>\n",
       "    <tr>\n",
       "      <th>1</th>\n",
       "      <td>UGA</td>\n",
       "      <td>1987-01-01</td>\n",
       "      <td>1987-12-31</td>\n",
       "      <td>226.0</td>\n",
       "      <td>'800</td>\n",
       "      <td>Uganda</td>\n",
       "      <td>LCU</td>\n",
       "      <td>Local currency units per USD</td>\n",
       "      <td>UGX</td>\n",
       "      <td>Uganda Shilling</td>\n",
       "      <td>1987.0</td>\n",
       "      <td>1987</td>\n",
       "      <td>7021.0</td>\n",
       "      <td>Annual value</td>\n",
       "      <td>NaN</td>\n",
       "      <td>42.841267</td>\n",
       "      <td>X</td>\n",
       "    </tr>\n",
       "    <tr>\n",
       "      <th>2</th>\n",
       "      <td>UGA</td>\n",
       "      <td>1987-01-01</td>\n",
       "      <td>1987-01-31</td>\n",
       "      <td>226.0</td>\n",
       "      <td>'800</td>\n",
       "      <td>Uganda</td>\n",
       "      <td>LCU</td>\n",
       "      <td>Local currency units per USD</td>\n",
       "      <td>UGX</td>\n",
       "      <td>Uganda Shilling</td>\n",
       "      <td>1987.0</td>\n",
       "      <td>1987</td>\n",
       "      <td>7001.0</td>\n",
       "      <td>January</td>\n",
       "      <td>NaN</td>\n",
       "      <td>42.841267</td>\n",
       "      <td>X</td>\n",
       "    </tr>\n",
       "    <tr>\n",
       "      <th>3</th>\n",
       "      <td>UGA</td>\n",
       "      <td>1987-02-01</td>\n",
       "      <td>1987-02-28</td>\n",
       "      <td>226.0</td>\n",
       "      <td>'800</td>\n",
       "      <td>Uganda</td>\n",
       "      <td>LCU</td>\n",
       "      <td>Local currency units per USD</td>\n",
       "      <td>UGX</td>\n",
       "      <td>Uganda Shilling</td>\n",
       "      <td>1987.0</td>\n",
       "      <td>1987</td>\n",
       "      <td>7002.0</td>\n",
       "      <td>February</td>\n",
       "      <td>NaN</td>\n",
       "      <td>14.000000</td>\n",
       "      <td>X</td>\n",
       "    </tr>\n",
       "    <tr>\n",
       "      <th>4</th>\n",
       "      <td>UGA</td>\n",
       "      <td>1987-03-01</td>\n",
       "      <td>1987-03-31</td>\n",
       "      <td>226.0</td>\n",
       "      <td>'800</td>\n",
       "      <td>Uganda</td>\n",
       "      <td>LCU</td>\n",
       "      <td>Local currency units per USD</td>\n",
       "      <td>UGX</td>\n",
       "      <td>Uganda Shilling</td>\n",
       "      <td>1987.0</td>\n",
       "      <td>1987</td>\n",
       "      <td>7003.0</td>\n",
       "      <td>March</td>\n",
       "      <td>NaN</td>\n",
       "      <td>14.000000</td>\n",
       "      <td>X</td>\n",
       "    </tr>\n",
       "    <tr>\n",
       "      <th>5</th>\n",
       "      <td>UGA</td>\n",
       "      <td>1987-04-01</td>\n",
       "      <td>1987-04-30</td>\n",
       "      <td>226.0</td>\n",
       "      <td>'800</td>\n",
       "      <td>Uganda</td>\n",
       "      <td>LCU</td>\n",
       "      <td>Local currency units per USD</td>\n",
       "      <td>UGX</td>\n",
       "      <td>Uganda Shilling</td>\n",
       "      <td>1987.0</td>\n",
       "      <td>1987</td>\n",
       "      <td>7004.0</td>\n",
       "      <td>April</td>\n",
       "      <td>NaN</td>\n",
       "      <td>14.000000</td>\n",
       "      <td>X</td>\n",
       "    </tr>\n",
       "  </tbody>\n",
       "</table>\n",
       "</div>"
      ],
      "text/plain": [
       "  Iso3   StartDate     EndDate  Area Code Area Code (M49)    Area  \\\n",
       "1  UGA  1987-01-01  1987-12-31      226.0            '800  Uganda   \n",
       "2  UGA  1987-01-01  1987-01-31      226.0            '800  Uganda   \n",
       "3  UGA  1987-02-01  1987-02-28      226.0            '800  Uganda   \n",
       "4  UGA  1987-03-01  1987-03-31      226.0            '800  Uganda   \n",
       "5  UGA  1987-04-01  1987-04-30      226.0            '800  Uganda   \n",
       "\n",
       "  Element Code                       Element ISO Currency Code  \\\n",
       "1          LCU  Local currency units per USD               UGX   \n",
       "2          LCU  Local currency units per USD               UGX   \n",
       "3          LCU  Local currency units per USD               UGX   \n",
       "4          LCU  Local currency units per USD               UGX   \n",
       "5          LCU  Local currency units per USD               UGX   \n",
       "\n",
       "          Currency  Year Code  Year  Months Code        Months Unit  \\\n",
       "1  Uganda Shilling     1987.0  1987       7021.0  Annual value  NaN   \n",
       "2  Uganda Shilling     1987.0  1987       7001.0       January  NaN   \n",
       "3  Uganda Shilling     1987.0  1987       7002.0      February  NaN   \n",
       "4  Uganda Shilling     1987.0  1987       7003.0         March  NaN   \n",
       "5  Uganda Shilling     1987.0  1987       7004.0         April  NaN   \n",
       "\n",
       "       Rates Flag  \n",
       "1  42.841267    X  \n",
       "2  42.841267    X  \n",
       "3  14.000000    X  \n",
       "4  14.000000    X  \n",
       "5  14.000000    X  "
      ]
     },
     "execution_count": 229,
     "metadata": {},
     "output_type": "execute_result"
    }
   ],
   "source": [
    "data.head()"
   ]
  },
  {
   "cell_type": "code",
   "execution_count": 230,
   "metadata": {},
   "outputs": [
    {
     "data": {
      "image/png": "[encoded data removed]",
      "text/plain": [
       "<Figure size 1000x600 with 1 Axes>"
      ]
     },
     "metadata": {},
     "output_type": "display_data"
    }
   ],
   "source": [
    "# Generating a histogram of Rates\n",
    "plt.figure(figsize=(10, 6))\n",
    "sns.histplot(data['Rates'], bins=20, kde=True, color='skyblue')\n",
    "plt.title('Histogram of the Rates column')\n",
    "plt.xlabel('Rates')\n",
    "plt.ylabel('Frequency')\n",
    "plt.show()"
   ]
  },
  {
   "cell_type": "markdown",
   "metadata": {},
   "source": [
    "## Checking for percentiles"
   ]
  },
  {
   "cell_type": "code",
   "execution_count": 231,
   "metadata": {},
   "outputs": [
    {
     "name": "stdout",
     "output_type": "stream",
     "text": [
      "25th percentile: 93.83923713\n",
      "50th percentile: 1196.34\n",
      "75th percentile: 2098.56633399208\n"
     ]
    }
   ],
   "source": [
    "# Filtering out non-numeric values in the 'Rates' column\n",
    "data = data[data['Rates'].apply(pd.to_numeric, errors='coerce').notna()]\n",
    "\n",
    "# Converting the 'Rates' column to float\n",
    "data['Rates'] = data['Rates'].astype(float)\n",
    "\n",
    "# Calculating specific percentiles\n",
    "percentiles = [25, 50, 75]\n",
    "percentile_values = np.percentile(data['Rates'], percentiles)\n",
    "\n",
    "# Print the results\n",
    "for p, value in zip(percentiles, percentile_values):\n",
    "    print(f\"{p}th percentile: {value}\")"
   ]
  },
  {
   "cell_type": "markdown",
   "metadata": {},
   "source": [
    "## EXERCISE 1(b)"
   ]
  },
  {
   "cell_type": "markdown",
   "metadata": {},
   "source": [
    "Creating List Rates"
   ]
  },
  {
   "cell_type": "code",
   "execution_count": 232,
   "metadata": {},
   "outputs": [
    {
     "name": "stdout",
     "output_type": "stream",
     "text": [
      "Rates list:\n",
      "[42.8412666667, 42.8412666667, 14.0, 14.0, 14.0, 38.0952, 60.0, 60.0, 60.0, 60.0]\n"
     ]
    }
   ],
   "source": [
    "# Creating a list from the 'Rates' column\n",
    "rates_list = data['Rates'].tolist()\n",
    "\n",
    "# Print the first few elements of the list\n",
    "print(\"Rates list:\")\n",
    "print(rates_list[:10])  # Adjusting the slice to show the desired number of elements (10)"
   ]
  },
  {
   "cell_type": "markdown",
   "metadata": {},
   "source": [
    "## EXERCISE 2\n",
    "## CALCULATING ALL MEASURES OF CENTRAL TENDENCY"
   ]
  },
  {
   "cell_type": "code",
   "execution_count": 233,
   "metadata": {},
   "outputs": [
    {
     "name": "stdout",
     "output_type": "stream",
     "text": [
      "Mean of the 'Rates' column: 1383.3367407705653\n",
      "Median of the 'Rates' column: 1196.34\n",
      "Mode of the 'Rates' column:\n",
      "0        7.021450\n",
      "1        7.135950\n",
      "2        7.143000\n",
      "3        7.143000\n",
      "4        7.143000\n",
      "5        8.735330\n",
      "6        9.751609\n",
      "7       16.613378\n",
      "8       21.391457\n",
      "9       33.571033\n",
      "10      59.478779\n",
      "11      60.000000\n",
      "12      93.839237\n",
      "13     118.304588\n",
      "14     165.148394\n",
      "15     266.726793\n",
      "16     672.020000\n",
      "17    1400.000000\n",
      "Name: Rates, dtype: float64\n"
     ]
    }
   ],
   "source": [
    "# Calculate measures of central tendency\n",
    "mean_rate = data['Rates'].mean()\n",
    "median_rate = data['Rates'].median()\n",
    "mode_rate = data['Rates'].mode()\n",
    "\n",
    "# Displaying the results\n",
    "print(f\"Mean of the 'Rates' column: {mean_rate}\")\n",
    "print(f\"Median of the 'Rates' column: {median_rate}\")\n",
    "print(f\"Mode of the 'Rates' column:\\n{mode_rate}\")"
   ]
  },
  {
   "cell_type": "code",
   "execution_count": 234,
   "metadata": {},
   "outputs": [
    {
     "name": "stdout",
     "output_type": "stream",
     "text": [
      "Standard Deviation of the Rates: 1251.5798686605576\n",
      "Variance of the Rates: 1566452.1676363784\n",
      "Range of the Rates: 3840.40653550001\n",
      "Interquartile Range (IQR) of the Rates: 2004.7270968620803\n"
     ]
    }
   ],
   "source": [
    "# Calculate measures of dispersion or variability\n",
    "std_dev_rate = data['Rates'].std()\n",
    "variance_rate = data['Rates'].var()\n",
    "range_rate = data['Rates'].max() - data['Rates'].min()\n",
    "Q1 = data['Rates'].quantile(0.25)\n",
    "Q3 = data['Rates'].quantile(0.75)\n",
    "IQR_rate = Q3 - Q1\n",
    "\n",
    "# Display the results\n",
    "print(f\"Standard Deviation of the Rates: {std_dev_rate}\")\n",
    "print(f\"Variance of the Rates: {variance_rate}\")\n",
    "print(f\"Range of the Rates: {range_rate}\")\n",
    "print(f\"Interquartile Range (IQR) of the Rates: {IQR_rate}\")"
   ]
  },
  {
   "cell_type": "markdown",
   "metadata": {},
   "source": [
    "#### In my case, the variance of 1564355.18 suggests that there is a considerable amount of variability or dispersion in the 'Rates' column, and individual values deviate from the mean by a significant amount."
   ]
  },
  {
   "cell_type": "markdown",
   "metadata": {},
   "source": [
    "## Exercise 3: Calculating more statistics"
   ]
  },
  {
   "cell_type": "code",
   "execution_count": 235,
   "metadata": {},
   "outputs": [
    {
     "name": "stdout",
     "output_type": "stream",
     "text": [
      "Coefficient of Variation of the Rates: 90.47543029641398%\n",
      "Quartile Coefficient of Dispersion of the Rates: 0.9143960968116198\n",
      "Percentiles (10th, 25th, 50th, 75th) of the Rates: [   7.14300001   93.83923713 1196.34       2098.56633399]\n",
      "Skewness of the Rates: 0.5399736628690917\n"
     ]
    }
   ],
   "source": [
    "# Coefficient of Variation\n",
    "cv_rate = (data['Rates'].std() / data['Rates'].mean()) * 100\n",
    "\n",
    "# Quartile Coefficient of Dispersion\n",
    "qcd_rate = (data['Rates'].quantile(0.75) - data['Rates'].quantile(0.25)) / (data['Rates'].quantile(0.75) + data['Rates'].quantile(0.25))\n",
    "\n",
    "# Percentiles\n",
    "percentiles = [10, 25, 50, 75]\n",
    "percentile_values = np.percentile(data['Rates'], percentiles)\n",
    "\n",
    "# Skewness\n",
    "skewness_rate = data['Rates'].skew()\n",
    "\n",
    "# Displaying the results\n",
    "print(f\"Coefficient of Variation of the Rates: {cv_rate}%\")\n",
    "print(f\"Quartile Coefficient of Dispersion of the Rates: {qcd_rate}\")\n",
    "print(f\"Percentiles (10th, 25th, 50th, 75th) of the Rates: {percentile_values}\")\n",
    "print(f\"Skewness of the Rates: {skewness_rate}\")"
   ]
  },
  {
   "cell_type": "markdown",
   "metadata": {},
   "source": [
    "##### A Coefficient of Variation of 90.48% indicates a relatively high degree of variability in relation to the mean."
   ]
  },
  {
   "cell_type": "code",
   "execution_count": 236,
   "metadata": {},
   "outputs": [
    {
     "name": "stdout",
     "output_type": "stream",
     "text": [
      "All columns in the dataset:\n",
      "Index(['Iso3', 'StartDate', 'EndDate', 'Area Code', 'Area Code (M49)', 'Area',\n",
      "       'Element Code', 'Element', 'ISO Currency Code', 'Currency', 'Year Code',\n",
      "       'Year', 'Months Code', 'Months', 'Unit', 'Rates', 'Flag'],\n",
      "      dtype='object')\n"
     ]
    }
   ],
   "source": [
    "# Display all columns in the dataset\n",
    "print(\"All columns in the dataset:\")\n",
    "print(data.columns)"
   ]
  },
  {
   "cell_type": "code",
   "execution_count": 237,
   "metadata": {},
   "outputs": [
    {
     "name": "stdout",
     "output_type": "stream",
     "text": [
      "Data types of all columns:\n",
      "Iso3                  object\n",
      "StartDate             object\n",
      "EndDate               object\n",
      "Area Code            float64\n",
      "Area Code (M49)       object\n",
      "Area                  object\n",
      "Element Code          object\n",
      "Element               object\n",
      "ISO Currency Code     object\n",
      "Currency              object\n",
      "Year Code            float64\n",
      "Year                  object\n",
      "Months Code          float64\n",
      "Months                object\n",
      "Unit                  object\n",
      "Rates                float64\n",
      "Flag                  object\n",
      "dtype: object\n"
     ]
    }
   ],
   "source": [
    "# Display data types of all columns\n",
    "print(\"Data types of all columns:\")\n",
    "print(data.dtypes)"
   ]
  },
  {
   "cell_type": "markdown",
   "metadata": {},
   "source": [
    "#### Covariance:"
   ]
  },
  {
   "cell_type": "markdown",
   "metadata": {},
   "source": [
    "##### To calculate covariance, we need to compare the rates column against another variable and that is why we choose to compare it with the year. We are coding the dates into a categorical variable"
   ]
  },
  {
   "cell_type": "code",
   "execution_count": 238,
   "metadata": {},
   "outputs": [
    {
     "name": "stdout",
     "output_type": "stream",
     "text": [
      "A list of coded dates: \n",
      "[0, 0, 1, 2, 3, 4, 5, 6, 7, 8, 9, 10, 11, 12, 12, 13, 14, 15, 16, 17, 18, 19, 20, 21, 22, 23, 24, 24, 25, 26, 27, 28, 29, 30, 31, 32, 33, 34, 35, 36, 36, 37, 38, 39, 40, 41, 42, 43, 44, 45, 46, 47, 48, 48, 49, 50, 51, 52, 53, 54, 55, 56, 57, 58, 59, 60, 60, 61, 62, 63, 64, 65, 66, 67, 68, 69, 70, 71, 72, 72, 73, 74, 75, 76, 77, 78, 79, 80, 81, 82, 83, 84, 84, 85, 86, 87, 88, 89, 90, 91, 92, 93, 94, 95, 96, 96, 97, 98, 99, 100, 101, 102, 103, 104, 105, 106, 107, 108, 108, 109, 110, 111, 112, 113, 114, 115, 116, 117, 118, 119, 120, 120, 121, 122, 123, 124, 125, 126, 127, 128, 129, 130, 131, 132, 132, 133, 134, 135, 136, 137, 138, 139, 140, 141, 142, 143, 144, 144, 145, 146, 147, 148, 149, 150, 151, 152, 153, 154, 155, 156, 156, 157, 158, 159, 160, 161, 162, 163, 164, 165, 166, 167, 168, 168, 169, 170, 171, 172, 173, 174, 175, 176, 177, 178, 179, 180, 180, 181, 182, 183, 184, 185, 186, 187, 188, 189, 190, 191, 192, 192, 193, 194, 195, 196, 197, 198, 199, 200, 201, 202, 203, 204, 204, 205, 206, 207, 208, 209, 210, 211, 212, 213, 214, 215, 216, 216, 217, 218, 219, 220, 221, 222, 223, 224, 225, 226, 227, 228, 228, 229, 230, 231, 232, 233, 234, 235, 236, 237, 238, 239, 240, 240, 241, 242, 243, 244, 245, 246, 247, 248, 249, 250, 251, 252, 252, 253, 254, 255, 256, 257, 258, 259, 260, 261, 262, 263, 264, 264, 265, 266, 267, 268, 269, 270, 271, 272, 273, 274, 275, 276, 276, 277, 278, 279, 280, 281, 282, 283, 284, 285, 286, 287, 288, 288, 289, 290, 291, 292, 293, 294, 295, 296, 297, 298, 299, 300, 300, 301, 302, 303, 304, 305, 306, 307, 308, 309, 310, 311, 312, 312, 313, 314, 315, 316, 317, 318, 319, 320, 321, 322, 323, 324, 324, 325, 326, 327, 328, 329, 330, 331, 332, 333, 334, 335, 336, 336, 337, 338, 339, 340, 341, 342, 343, 344, 345, 346, 347, 348, 348, 349, 350, 351, 352, 353, 354, 355, 356, 357, 358, 359, 360, 360, 361, 362, 363, 364, 365, 366, 367, 368, 369, 370, 371, 372, 372, 373, 374, 375, 376, 377, 378, 379, 380, 381, 382, 383, 384, 384, 385, 386, 387, 388, 389, 390, 391, 392, 393, 394, 395, 396, 396, 397, 398, 399, 400, 401, 402, 403, 404, 405, 406, 407, 408, 408, 409, 410, 411, 412, 413, 414, 415, 416, 417, 418, 419, 420, 420, 421, 422, 423, 424, 425, 426, 427, 428, 429, 430, 431, 432, 433, 434, 435, 436, 437, 437, 438, 439, 440, 441, 442, 443, 444, 445, 446, 447, 448, 449, 449, 450, 451, 452, 453, 454, 455, 456, 457, 458, 459, 460, 461, 461, 462, 463, 464, 465, 466, 467, 468, 469, 470, 471, 472, 473, 473, 474, 475, 476, 477, 478, 479, 480, 481, 482, 483, 484, 485, 485, 486, 487, 488, 489, 490, 491, 492, 493, 494, 495, 496, 497, 497, 498, 499, 500, 501, 502, 503, 504, 505, 506, 507, 508, 509, 509, 510, 511, 512, 513, 514, 515, 516, 517, 518, 519, 520, 521, 521, 522, 523, 524, 525, 526, 527, 528, 529, 530, 531, 532, 533, 533, 534, 535, 536, 537, 538, 539, 540, 541, 542, 543, 544, 545, 545, 546, 547, 548, 549, 550, 551, 552, 553, 554, 555, 556, 557, 557, 558, 559, 560, 561, 562, 563, 564, 565, 566, 567, 568, 569, 569, 570, 571, 572, 573, 574, 575, 576, 577, 578, 579, 580, 581, 581, 582, 583, 584, 585, 586, 587, 588, 589, 590, 591, 592, 593, 593, 594, 595, 596, 597, 598, 599, 600, 601, 602, 603, 604, 605, 605, 606, 607, 608, 609, 610, 611, 612, 613, 614, 615, 616, 617, 617, 618, 619, 620, 621, 622, 623, 624, 625, 626, 627, 628, 629, 629, 630, 631, 632, 633, 634, 635, 636, 637, 638, 639, 640, 437, 449, 461, 473, 485, 497, 509, 521, 533, 545, 557, 569, 581, 593, 605, 617, 629, 0, 12, 24, 36, 48, 60, 72, 84, 96, 108, 120, 132, 144, 156, 168, 180, 192, 204, 216, 228, 240, 252, 264, 276, 288, 300, 312, 324, 336, 348, 360, 372, 384, 396, 408, 420]\n"
     ]
    }
   ],
   "source": [
    "# Since 'StartDate' contains dates\n",
    "dates_coded = data['StartDate']\n",
    "\n",
    "# Creating a DataFrame with the 'StartDate' column\n",
    "data = pd.DataFrame(dates_coded)\n",
    "\n",
    "# Converting 'StartDate' to a categorical variable and obtain the codes\n",
    "data['date_categorical'] = pd.factorize(data['StartDate'])[0]\n",
    "\n",
    "# Creating a list of coded dates\n",
    "coded_dates = data['date_categorical'].tolist()\n",
    "\n",
    "# Displaying the output\n",
    "print(f'A list of coded dates: \\n{coded_dates}')\n"
   ]
  },
  {
   "cell_type": "markdown",
   "metadata": {},
   "source": [
    "### To visualize the confidence interval of the Rates column using a function below"
   ]
  },
  {
   "cell_type": "code",
   "execution_count": 239,
   "metadata": {},
   "outputs": [
    {
     "name": "stdout",
     "output_type": "stream",
     "text": [
      "Confidence Interval: (1293.5842811303853, 1473.0892004107452)\n"
     ]
    }
   ],
   "source": [
    "def calculate_confidence_interval(y, confidence=0.95):\n",
    "    # Calculate mean and standard error of the mean\n",
    "    mean = np.mean(y)\n",
    "    std_error = stats.sem(y)\n",
    "\n",
    "    # Calculate confidence interval\n",
    "    interval = stats.norm.interval(confidence, loc=mean, scale=std_error)\n",
    "\n",
    "    return interval\n",
    "\n",
    "confidence_interval = calculate_confidence_interval(rates_list)\n",
    "\n",
    "print(f\"Confidence Interval: {confidence_interval}\")"
   ]
  },
  {
   "cell_type": "markdown",
   "metadata": {},
   "source": [
    "##### The Lower Bound (1293.5842811303853): This is the lower limit of the confidence interval. It suggests that we are 95% confident that the true population parameter (whatever is being estimated) is greater than or equal to 1293.58.\n",
    "\n",
    "##### Upper Bound (1473.0892004107452): This is the upper limit of the confidence interval. It suggests that we are 95% confident that the true population parameter is less than or equal to 1473.09.\n",
    "\n",
    "##### Range: The entire range between the lower and upper bounds (1473.09 - 1293.58) represents the range within which we believe the true population parameter lies with 95% confidence.\n",
    "\n",
    "##### Confidence Level (95%): The confidence level represents the probability that the confidence interval contains the true parameter. In this case, it's 95%"
   ]
  },
  {
   "cell_type": "code",
   "execution_count": 240,
   "metadata": {},
   "outputs": [
    {
     "name": "stdout",
     "output_type": "stream",
     "text": [
      "F-statistic: 528.537434353525\n",
      "P-value: 2.2834715970394953e-100\n",
      "The means of at least two groups are significantly different.\n"
     ]
    }
   ],
   "source": [
    "# Perform one-way ANOVA\n",
    "f_statistic, p_value = stats.f_oneway(rates_list, coded_dates)\n",
    "\n",
    "# Output the results\n",
    "print(f\"F-statistic: {f_statistic}\")\n",
    "print(f\"P-value: {p_value}\")\n",
    "\n",
    "# Check for significance\n",
    "if p_value < 0.05:\n",
    "    print(\"The means of at least two groups are significantly different.\")\n",
    "else:\n",
    "    print(\"No significant differences found between the group means.\")"
   ]
  },
  {
   "cell_type": "markdown",
   "metadata": {},
   "source": [
    "##### Reults show a high F-statistic coupled with an extremely low p-value suggests that there is strong evidence to reject the null hypothesis. This implies that the overall groups being compared have a statistically significant effect. It's an indication that the variables in my analysis are contributing significantly to explaining the variability in the data."
   ]
  },
  {
   "cell_type": "markdown",
   "metadata": {},
   "source": [
    "## To check for covariance between rates and dates"
   ]
  },
  {
   "cell_type": "code",
   "execution_count": 241,
   "metadata": {},
   "outputs": [
    {
     "name": "stdout",
     "output_type": "stream",
     "text": [
      "The covariance for the  rates and dates is: -29452.270262036727\n"
     ]
    }
   ],
   "source": [
    "covariance = np.cov(rates_list, coded_dates)[0, 1]\n",
    "print(f'The covariance for the  rates and dates is: {covariance}')"
   ]
  },
  {
   "cell_type": "markdown",
   "metadata": {},
   "source": [
    "##### This signifies an inverse relationship between the rates and dates. In simpler terms, as one variable (perhaps rates) increases, the other variable (dates) tends to decrease, and vice versa. The magnitude of the covariance value is also significant, suggesting a relatively strong relationship between the two variables."
   ]
  },
  {
   "cell_type": "markdown",
   "metadata": {},
   "source": [
    "#### THE END ####"
   ]
  }
 ],
 "metadata": {
  "kernelspec": {
   "display_name": "Group discussion",
   "language": "python",
   "name": "python3"
  },
  "language_info": {
   "codemirror_mode": {
    "name": "ipython",
    "version": 3
   },
   "file_extension": ".py",
   "mimetype": "text/x-python",
   "name": "python",
   "nbconvert_exporter": "python",
   "pygments_lexer": "ipython3",
   "version": "3.11.5"
  }
 },
 "nbformat": 4,
 "nbformat_minor": 2
}
