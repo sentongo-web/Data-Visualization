{
 "cells": [
  {
   "cell_type": "code",
   "execution_count": 2,
   "id": "7aa334cb",
   "metadata": {},
   "outputs": [],
   "source": [
    "#importing the necessary libraries\n",
    "import pandas as pd\n",
    "#Supressing the warning messages\n",
    "import warnings\n",
    "warnings.filterwarnings('ignore')"
   ]
  },
  {
   "cell_type": "markdown",
   "id": "8b9a6068",
   "metadata": {},
   "source": [
    "A.\tRead in each file in your Jupyter Notebook file."
   ]
  },
  {
   "cell_type": "code",
   "execution_count": 3,
   "id": "879326b1",
   "metadata": {},
   "outputs": [],
   "source": [
    "# Load each dataset\n",
    "dataset_1 = pd.read_csv('FAOSTAT_ALGERIA.csv')\n",
    "dataset_2 = pd.read_csv('FAOSTAT_ANDORRA.csv')\n",
    "dataset_3 = pd.read_csv('FAOSTAT_ANGOLA.csv')\n",
    "dataset_4 = pd.read_csv('FAOSTAT_AFGHANISTAN.csv')\n",
    "dataset_5 = pd.read_csv('FAOSTAT_ALBANIA.csv')"
   ]
  },
  {
   "cell_type": "code",
   "execution_count": 6,
   "id": "82d830a0",
   "metadata": {},
   "outputs": [
    {
     "data": {
      "text/html": [
       "<div>\n",
       "<style scoped>\n",
       "    .dataframe tbody tr th:only-of-type {\n",
       "        vertical-align: middle;\n",
       "    }\n",
       "\n",
       "    .dataframe tbody tr th {\n",
       "        vertical-align: top;\n",
       "    }\n",
       "\n",
       "    .dataframe thead th {\n",
       "        text-align: right;\n",
       "    }\n",
       "</style>\n",
       "<table border=\"1\" class=\"dataframe\">\n",
       "  <thead>\n",
       "    <tr style=\"text-align: right;\">\n",
       "      <th></th>\n",
       "      <th>Domain Code</th>\n",
       "      <th>Domain</th>\n",
       "      <th>Area Code (M49)</th>\n",
       "      <th>Area</th>\n",
       "      <th>Element Code</th>\n",
       "      <th>Element</th>\n",
       "      <th>Item Code</th>\n",
       "      <th>Item</th>\n",
       "      <th>Year Code</th>\n",
       "      <th>Year</th>\n",
       "      <th>Unit</th>\n",
       "      <th>Value</th>\n",
       "      <th>Flag</th>\n",
       "      <th>Flag Description</th>\n",
       "      <th>Note</th>\n",
       "    </tr>\n",
       "  </thead>\n",
       "  <tbody>\n",
       "    <tr>\n",
       "      <th>0</th>\n",
       "      <td>FO</td>\n",
       "      <td>Forestry Production and Trade</td>\n",
       "      <td>8</td>\n",
       "      <td>Albania</td>\n",
       "      <td>5516</td>\n",
       "      <td>Production</td>\n",
       "      <td>1627</td>\n",
       "      <td>Wood fuel, coniferous</td>\n",
       "      <td>1961</td>\n",
       "      <td>1961</td>\n",
       "      <td>m3</td>\n",
       "      <td>260000.0</td>\n",
       "      <td>A</td>\n",
       "      <td>Official figure</td>\n",
       "      <td>NaN</td>\n",
       "    </tr>\n",
       "    <tr>\n",
       "      <th>1</th>\n",
       "      <td>FO</td>\n",
       "      <td>Forestry Production and Trade</td>\n",
       "      <td>8</td>\n",
       "      <td>Albania</td>\n",
       "      <td>5516</td>\n",
       "      <td>Production</td>\n",
       "      <td>1627</td>\n",
       "      <td>Wood fuel, coniferous</td>\n",
       "      <td>1962</td>\n",
       "      <td>1962</td>\n",
       "      <td>m3</td>\n",
       "      <td>221000.0</td>\n",
       "      <td>A</td>\n",
       "      <td>Official figure</td>\n",
       "      <td>NaN</td>\n",
       "    </tr>\n",
       "  </tbody>\n",
       "</table>\n",
       "</div>"
      ],
      "text/plain": [
       "  Domain Code                         Domain  Area Code (M49)     Area  \\\n",
       "0          FO  Forestry Production and Trade                8  Albania   \n",
       "1          FO  Forestry Production and Trade                8  Albania   \n",
       "\n",
       "   Element Code     Element  Item Code                   Item  Year Code  \\\n",
       "0          5516  Production       1627  Wood fuel, coniferous       1961   \n",
       "1          5516  Production       1627  Wood fuel, coniferous       1962   \n",
       "\n",
       "   Year Unit     Value Flag Flag Description  Note  \n",
       "0  1961   m3  260000.0    A  Official figure   NaN  \n",
       "1  1962   m3  221000.0    A  Official figure   NaN  "
      ]
     },
     "execution_count": 6,
     "metadata": {},
     "output_type": "execute_result"
    }
   ],
   "source": [
    "#A view of the data sets to see if it's correctly loaded\n",
    "dataset_1.head(2)\n",
    "dataset_2.head(2)\n",
    "dataset_3.head(2)\n",
    "dataset_4.head(2)\n",
    "dataset_5.head(2)"
   ]
  },
  {
   "cell_type": "markdown",
   "id": "a18b3d17",
   "metadata": {},
   "source": [
    "B.\tAdd a column to each dataframe, called “newColumn”, with data of your choice that could be a manipulation of any other column."
   ]
  },
  {
   "cell_type": "markdown",
   "id": "953aa657",
   "metadata": {},
   "source": [
    "#Add a column to each dataframe\n",
    "\n",
    "dataset_1['newColumn'] = dataset_1['Column1'] + dataset_1['Column2']\n",
    "dataset_2['newColumn'] = dataset_2['Column1'] + dataset_2['Column2']\n",
    "dataset_3['newColumn'] = dataset_3['Column1'] + dataset_3['Column2']\n",
    "dataset_4['newColumn'] = dataset_4['Column1'] + dataset_4['Column2']\n",
    "dataset_5['newColumn'] = dataset_5['Column1'] + dataset_5['Column2']\n"
   ]
  },
  {
   "cell_type": "markdown",
   "id": "ff309f93",
   "metadata": {},
   "source": [
    "C.\tAppend all the dataframes from (A) together into a single dataframe.\n",
    "D.\tSave the result in a CSV file called fao.csv."
   ]
  },
  {
   "cell_type": "code",
   "execution_count": 7,
   "id": "da57c1ee",
   "metadata": {},
   "outputs": [
    {
     "name": "stdout",
     "output_type": "stream",
     "text": [
      "  Domain Code                         Domain  Area Code (M49)     Area  \\\n",
      "0          FO  Forestry Production and Trade               12  Algeria   \n",
      "1          FO  Forestry Production and Trade               12  Algeria   \n",
      "2          FO  Forestry Production and Trade               12  Algeria   \n",
      "3          FO  Forestry Production and Trade               12  Algeria   \n",
      "4          FO  Forestry Production and Trade               12  Algeria   \n",
      "\n",
      "   Element Code     Element  Item Code                   Item  Year Code  \\\n",
      "0          5516  Production       1627  Wood fuel, coniferous       1961   \n",
      "1          5516  Production       1627  Wood fuel, coniferous       1962   \n",
      "2          5516  Production       1627  Wood fuel, coniferous       1963   \n",
      "3          5516  Production       1627  Wood fuel, coniferous       1964   \n",
      "4          5516  Production       1627  Wood fuel, coniferous       1965   \n",
      "\n",
      "   Year Unit      Value Flag Flag Description Note  \n",
      "0  1961   m3  1932945.0    I    Imputed value  NaN  \n",
      "1  1962   m3  1978050.0    I    Imputed value  NaN  \n",
      "2  1963   m3  2024207.0    I    Imputed value  NaN  \n",
      "3  1964   m3  2071441.0    I    Imputed value  NaN  \n",
      "4  1965   m3  2119777.0    I    Imputed value  NaN  \n"
     ]
    }
   ],
   "source": [
    "# Append all the dataframes from (A) together into a single dataframe\n",
    "fao = pd.concat([dataset_1, dataset_2, dataset_3, dataset_4, dataset_5], ignore_index=True)\n",
    "\n",
    "# Display the combined dataframe\n",
    "print(fao.head())\n",
    "\n",
    "# Save the combined dataframe to a new CSV file\n",
    "fao.to_csv('combined_fao_dataset.csv', index=False)\n"
   ]
  },
  {
   "cell_type": "markdown",
   "id": "bee05358",
   "metadata": {},
   "source": [
    "2. With fao, use type conversion to cast the values of the year column into datetimes and, sort by date and value."
   ]
  },
  {
   "cell_type": "code",
   "execution_count": 12,
   "id": "1ec3a0be",
   "metadata": {},
   "outputs": [
    {
     "name": "stdout",
     "output_type": "stream",
     "text": [
      "    Domain Code                         Domain  Area Code (M49)         Area  \\\n",
      "302          FO  Forestry Production and Trade               24       Angola   \n",
      "466          FO  Forestry Production and Trade                4  Afghanistan   \n",
      "692          FO  Forestry Production and Trade                8      Albania   \n",
      "528          FO  Forestry Production and Trade                4  Afghanistan   \n",
      "778          FO  Forestry Production and Trade                8      Albania   \n",
      "\n",
      "     Element Code     Element  Item Code                       Item  \\\n",
      "302          5516  Production       1627      Wood fuel, coniferous   \n",
      "466          5516  Production       1627      Wood fuel, coniferous   \n",
      "692          5516  Production       1627      Wood fuel, coniferous   \n",
      "528          5516  Production       1628  Wood fuel, non-coniferous   \n",
      "778          5516  Production       1628  Wood fuel, non-coniferous   \n",
      "\n",
      "     Year Code       Year Unit     Value Flag Flag Description Note  \n",
      "302       1961 1961-01-01   m3       0.0    I    Imputed value  NaN  \n",
      "466       1961 1961-01-01   m3  172596.0    I    Imputed value  NaN  \n",
      "692       1961 1961-01-01   m3  260000.0    A  Official figure  NaN  \n",
      "528       1961 1961-01-01   m3  402695.0    I    Imputed value  NaN  \n",
      "778       1961 1961-01-01   m3  785000.0    A  Official figure  NaN  \n"
     ]
    }
   ],
   "source": [
    "# Convert 'year' column to datetime\n",
    "fao['Year'] = pd.to_datetime(fao['Year'], format='%Y')\n",
    "\n",
    "# Sort the dataframe by date and Value\n",
    "fao_sorted = fao.sort_values(by=['Year', 'Value'])\n",
    "\n",
    "# Display the sorted dataframe\n",
    "print(fao_sorted.head())\n",
    "\n",
    "#Save the sorted dataframe to a new CSV file\n",
    "#fao_sorted.to_csv('sorted_fao_dataset.csv', index=False)\n"
   ]
  },
  {
   "cell_type": "markdown",
   "id": "4af4e53b",
   "metadata": {},
   "source": [
    "3.Find the seven rows in fao with the lowest value for a column of your choice."
   ]
  },
  {
   "cell_type": "code",
   "execution_count": 14,
   "id": "61bf20b7",
   "metadata": {},
   "outputs": [
    {
     "name": "stdout",
     "output_type": "stream",
     "text": [
      "    Domain Code                         Domain  Area Code (M49)     Area  \\\n",
      "150          FO  Forestry Production and Trade               20  Andorra   \n",
      "151          FO  Forestry Production and Trade               20  Andorra   \n",
      "152          FO  Forestry Production and Trade               20  Andorra   \n",
      "153          FO  Forestry Production and Trade               20  Andorra   \n",
      "154          FO  Forestry Production and Trade               20  Andorra   \n",
      "155          FO  Forestry Production and Trade               20  Andorra   \n",
      "156          FO  Forestry Production and Trade               20  Andorra   \n",
      "\n",
      "     Element Code     Element  Item Code                   Item  Year Code  \\\n",
      "150          5516  Production       1627  Wood fuel, coniferous       2009   \n",
      "151          5516  Production       1627  Wood fuel, coniferous       2010   \n",
      "152          5516  Production       1627  Wood fuel, coniferous       2011   \n",
      "153          5516  Production       1627  Wood fuel, coniferous       2012   \n",
      "154          5516  Production       1627  Wood fuel, coniferous       2013   \n",
      "155          5516  Production       1627  Wood fuel, coniferous       2014   \n",
      "156          5516  Production       1627  Wood fuel, coniferous       2015   \n",
      "\n",
      "          Year Unit  Value Flag Flag Description Note  \n",
      "150 2009-01-01   m3    0.0    E  Estimated value  NaN  \n",
      "151 2010-01-01   m3    0.0    E  Estimated value  NaN  \n",
      "152 2011-01-01   m3    0.0    E  Estimated value  NaN  \n",
      "153 2012-01-01   m3    0.0    E  Estimated value  NaN  \n",
      "154 2013-01-01   m3    0.0    E  Estimated value  NaN  \n",
      "155 2014-01-01   m3    0.0    E  Estimated value  NaN  \n",
      "156 2015-01-01   m3    0.0    E  Estimated value  NaN  \n"
     ]
    }
   ],
   "source": [
    "# Find the seven rows with the lowest values in the 'value' column\n",
    "lowest_values = fao.nsmallest(7, 'Value')\n",
    "\n",
    "# Display the result\n",
    "print(lowest_values)\n"
   ]
  },
  {
   "cell_type": "markdown",
   "id": "cb4288b5",
   "metadata": {},
   "source": [
    "4.Right now, the data is somewhere between long and wide format. Use melt() to make it completely long format."
   ]
  },
  {
   "cell_type": "code",
   "execution_count": 16,
   "id": "8432012d",
   "metadata": {},
   "outputs": [
    {
     "name": "stdout",
     "output_type": "stream",
     "text": [
      "            Year     variable value\n",
      "0     1961-01-01  Domain Code    FO\n",
      "1     1962-01-01  Domain Code    FO\n",
      "2     1963-01-01  Domain Code    FO\n",
      "3     1964-01-01  Domain Code    FO\n",
      "4     1965-01-01  Domain Code    FO\n",
      "...          ...          ...   ...\n",
      "13323 2015-01-01         Note   NaN\n",
      "13324 2016-01-01         Note   NaN\n",
      "13325 2016-01-01         Note   NaN\n",
      "13326 2016-01-01         Note   NaN\n",
      "13327 2016-01-01         Note   NaN\n",
      "\n",
      "[13328 rows x 3 columns]\n"
     ]
    }
   ],
   "source": [
    "# Using melt to convert to long format\n",
    "fao_long = pd.melt(fao, id_vars=['Year'], var_name='variable', value_name='value')\n",
    "\n",
    "print(fao_long)\n",
    "\n",
    "# Sort the long format dataframe by 'year' and 'value'\n",
    "#fao_long_sorted = fao_long.sort_values(by=['Year', 'value'])\n",
    "\n",
    "# Display the sorted long format dataframe\n",
    "#print(fao_long_sorted.head())\n",
    "\n",
    "# Save the sorted long format dataframe to a new CSV file\n",
    "#fao_long_sorted.to_csv('long_format_fao_dataset.csv', index=False)\n"
   ]
  },
  {
   "cell_type": "markdown",
   "id": "17c210ed",
   "metadata": {},
   "source": [
    "5.\tBased on your downloaded datasets, suppose on a given day, say December 2, 2016 there was a glitch in how the data was recorded. How would you handle such a scenario?"
   ]
  },
  {
   "cell_type": "code",
   "execution_count": null,
   "id": "1ffc2d45",
   "metadata": {},
   "outputs": [],
   "source": []
  },
  {
   "cell_type": "markdown",
   "id": "532e4c3a",
   "metadata": {},
   "source": [
    "6.\tEmploy any other data wrangling technique in your solution (label each technique as a – z)"
   ]
  },
  {
   "cell_type": "code",
   "execution_count": null,
   "id": "1fa04c34",
   "metadata": {},
   "outputs": [],
   "source": []
  }
 ],
 "metadata": {
  "kernelspec": {
   "display_name": "Python 3 (ipykernel)",
   "language": "python",
   "name": "python3"
  },
  "language_info": {
   "codemirror_mode": {
    "name": "ipython",
    "version": 3
   },
   "file_extension": ".py",
   "mimetype": "text/x-python",
   "name": "python",
   "nbconvert_exporter": "python",
   "pygments_lexer": "ipython3",
   "version": "3.11.4"
  }
 },
 "nbformat": 4,
 "nbformat_minor": 5
}
